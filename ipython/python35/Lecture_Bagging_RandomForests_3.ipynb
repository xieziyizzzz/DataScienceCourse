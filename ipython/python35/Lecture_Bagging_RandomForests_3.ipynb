{
 "cells": [
  {
   "cell_type": "markdown",
   "metadata": {},
   "source": [
    "### Bagging\n",
    "\n",
    "<p>Bagging is a procedure that let's use bootstrapping to reduce the variance, and ultimately performance, of a prediction. The procedure can be defined as follows:<br><br>\n",
    "We have data $D=[(X_1, Y_1),(X_2, Y_2),...,(X_N, Y_N)]$ and we want to learn:$\\:\\: E[Y|X]=\\hat{f}(X)$. Define a bootstrap sample $D^b$ as $N$ samples from $D$, sampled with replacement. Let $E^b[Y|X]=\\hat{f}^b(X)$ be the function learned from training set $D^b$.\n",
    "Our bagged prediction is then the mean of all estimates of $f^b(X)$. I.e.,\n",
    "<br><br>\n",
    "<center>$\\hat{f}_{bag}(X) = \\frac{1}{B}\\sum\\limits_{b=1}^B \\:\\hat{f}^b(X)$</center>\n",
    "<br>\n",
    "This is a relatively straightforward procedure to implement, which we can show on a simulated example.\n",
    "\n",
    "\n",
    "\n",
    "\n",
    "\n",
    "</p>"
   ]
  },
  {
   "cell_type": "code",
   "execution_count": 5,
   "metadata": {
    "collapsed": false
   },
   "outputs": [],
   "source": [
    "import numpy as np\n",
    "import pandas as pd\n",
    "import matplotlib.pyplot as plt\n",
    "\n",
    "import os\n",
    "os.chdir(\"C:/Users/kevin/Documents/GitHub/DS_course/ipython/\")\n",
    "import course_utils as bd\n",
    "import imp\n",
    "imp.reload(bd)\n",
    "\n",
    "#Generate Y, and X, where E[Y|X] is a 3rd order polynomial\n",
    "betas = [0, 2, -2.5, 1]\n",
    "n=200\n",
    "sig=0.2\n",
    "sp=20\n",
    "\n",
    "x_init = np.random.uniform(0, 1, n)\n",
    "e_init = np.random.normal(0, sig, n)\n",
    "\n",
    "dat = bd.genY(x_init, e_init, betas)\n",
    "dat = bd.makePolyFeat(dat, 6)\n",
    "\n",
    "#Plot the data vs. the real curve\n",
    "plt.plot(dat['x'], dat['y'], 'b.')\n",
    "plt.plot(dat['x'], dat[['x','x2','x3']].dot(np.array(betas[1:])), 'r.')\n",
    "plt.show()"
   ]
  },
  {
   "cell_type": "code",
   "execution_count": 7,
   "metadata": {
    "collapsed": false
   },
   "outputs": [],
   "source": [
    "#Now let's do bagged prediction using linear regression\n",
    "from sklearn import linear_model\n",
    "\n",
    "n_boots = 100\n",
    "\n",
    "boot_est = dict()\n",
    "x_grid = np.arange(0, 1, 0.01)\n",
    "d_grid = pd.DataFrame(x_grid, columns=['x'])\n",
    "d_grid = bd.makePolyFeat(d_grid, 6)\n",
    "\n",
    "\n",
    "fig = plt.figure()\n",
    "\n",
    "#Generate and plot each bootstrap model\n",
    "for i in range(n_boots):\n",
    "    D_b = dat.iloc[np.random.randint(0, dat.shape[0], size=dat.shape[0])]\n",
    "    regr = linear_model.LinearRegression(fit_intercept=True)\n",
    "    regr.fit(D_b.drop('y', 1), D_b['y'])\n",
    "    boot_est[i] = regr.predict(d_grid)\n",
    "    plt.plot(x_grid, boot_est[i], color='0.75')\n",
    "\n",
    "#Now aggregate the bootstrapped models for a single prediction\n",
    "bag_est = pd.DataFrame(boot_est).mean(axis=1)\n",
    "\n",
    "#For comparison, we'll also see what a single fit on the original data looks like\n",
    "regr = linear_model.LinearRegression(fit_intercept=True)\n",
    "regr.fit(dat.drop('y', 1), dat['y'])\n",
    "non_bag = regr.predict(d_grid)\n",
    "\n",
    "#Truth\n",
    "truth = d_grid[['x','x2','x3']].dot(np.array(betas[1:]))\n",
    "\n",
    "#Now Get MSE of estimates\n",
    "mse_bag = round(np.sqrt(((truth-bag_est)**2).sum()), 3)\n",
    "mse_non = round(np.sqrt(((truth-non_bag)**2).sum()), 3)\n",
    "\n",
    "\n",
    "plt.plot(x_grid, non_bag,'k-', label='Non Bagged Estimate, MSE={}'.format(mse_non))\n",
    "plt.plot(x_grid, bag_est,'r-', label='Bagged Estimate, MSE={}'.format(mse_bag))\n",
    "plt.plot(d_grid['x'], d_grid[['x','x2','x3']].dot(np.array(betas[1:])), 'b--', label='Truth')\n",
    "\n",
    "\n",
    "plt.title('Bagging Example')\n",
    "plt.legend(loc=4)\n",
    "plt.show()"
   ]
  },
  {
   "cell_type": "markdown",
   "metadata": {},
   "source": [
    "<p>We can see in the above example that variance of the bootstrapped predictions is very high, especially around the extreme values of $X$, where there is less data. The goal of Bagging is to reduce the variance of the prediction (and thus improve accuracy). The lever that controls the amount of variance reduction is the number of bootstrap samples used.\n",
    "<br><br> \n",
    "<b>When to use Bagging</b><br><br>\n",
    "According to the original <a href=\"http://statistics.berkeley.edu/sites/default/files/tech-reports/421.pdf\">Bagging paper</a> by Leo Breiman, bagging will produce a much better reduction in training error when the underlying classifier or regression model is unstable, and sensitive to minor variations of the data $D$. The above example was meant to show Bagging at work. We used a linear regression on polynomial features, and even though the underlying model was misspecified (we used degree 6 where the truth is degree 3), the bagged estimate isn't too far from the estimate without bagging. One must be careful when choosing to use bagging, because it can actually hurt performance if the underlying model is fairly stable (if you rerun the above regression example with different data sets or different bootstrapping iterations, you might find that the bagged MSE is worse).\n",
    "</p>\n",
    "\n",
    "## Random Forests\n",
    "### The Basic Algorithm\n",
    "<p>The Random Forest algorithm is probably the most well known and utilized implementation of the Bagging technique. A RF is an ensemble of Decision Trees, where both bagging and random feature selection are used to reduce the variance of the forest. The basic algorithm goes as follows:<br><br>\n",
    "Assume we have a data matrix $D=[X,Y]$ with $N$ records and $M$ features.<br><br>\n",
    "\n",
    "<i><u>Train</u></i><br>\n",
    "For each $b$ of $B$ iterations:\n",
    "<ul>\n",
    "    <li>Draw a bootstrap sample $D^b$ of size $N$ from $D$.</li>\n",
    "    <li>Sample $p$ features from $X$, where $p<<M$.</li>\n",
    "    <li>Grow a Decision Tree $T_b(X)$ on this data</li>\n",
    "</ul>\n",
    "<br>\n",
    "<i><u>Score</u></i><br>\n",
    "Take the average of all of the tree predictions, i.e.<br>\n",
    "$RF(x)=\\frac{1}{B}\\sum\\limits_{b=1}^B \\: T_b(x)$\n",
    "\n",
    "\n",
    "\n",
    "\n",
    "</p>"
   ]
  },
  {
   "cell_type": "markdown",
   "metadata": {},
   "source": [
    "<p>We'll start by building a forest using <a href=\"http://scikit-learn.org/stable/modules/classes.html#module-sklearn.ensemble\">SKlearn.ensemble</a>. Check out <a href=\"http://scikit-learn.org/stable/modules/ensemble.html\">here</a> for a brief overview of Ensemble methods in Python. We'll also compare this to a single tree. This test is close to an off-the-shelf test, in the sense that we are not doing any intelligent hyper-parameter optimization. However, we do use a few well reasoned starting parameters."
   ]
  },
  {
   "cell_type": "code",
   "execution_count": 10,
   "metadata": {
    "collapsed": false
   },
   "outputs": [],
   "source": [
    "from sklearn.ensemble import RandomForestClassifier\n",
    "from sklearn.tree import DecisionTreeClassifier\n",
    "import pandas as pd\n",
    "import course_utils as bd\n",
    "imp.reload(bd)\n",
    "\n",
    "\n",
    "f = 'C:/Users/kevin/Documents/GitHub/DS_course/datasets/Cell2Cell_data.csv'\n",
    "dat=pd.read_csv(f, header=0, sep=',')\n",
    "train, test = bd.trainTest(dat, 0.8)\n",
    "lab = 'churndep'\n",
    "\n",
    "\n",
    "#We'll build a RF and compare to a DT\n",
    "clf_def = DecisionTreeClassifier(criterion='entropy', min_samples_leaf = 20)\n",
    "clf_def = clf_def.fit(train.drop(lab, 1), train[lab])\n",
    "dt_pred = clf_def.predict_proba(test.drop(lab,1))\n",
    "\n",
    "rf_def = RandomForestClassifier(criterion='entropy', n_estimators=100)\n",
    "rf_def = rf_def.fit(train.drop(lab, 1), train[lab])\n",
    "rf_pred = rf_def.predict_proba(test.drop(lab,1))\n"
   ]
  },
  {
   "cell_type": "markdown",
   "metadata": {},
   "source": [
    "<p>Now compare the forest to the tree using AUC</p>"
   ]
  },
  {
   "cell_type": "code",
   "execution_count": 12,
   "metadata": {
    "collapsed": false
   },
   "outputs": [],
   "source": [
    "from sklearn.metrics import roc_curve, auc, roc_auc_score\n",
    "import course_utils as bd\n",
    "imp.reload(bd)\n",
    "\n",
    "\n",
    "bd.plotAUC(test[lab], dt_pred[:,1], 'DT')\n",
    "bd.plotAUC(test[lab], rf_pred[:,1], 'RF')\n",
    "plt.show()"
   ]
  },
  {
   "cell_type": "markdown",
   "metadata": {},
   "source": [
    "<p>We can see that with little optimization involved, the RF is already a bit better. Let's see how much better we can do with a grid search on both the DT and the RF. We have already covered DT optimization in a different module, so here we'll focus on the input parameters of the RandomForestClassifier object that let us tune the forest.<br><br>\n",
    "\n",
    "The following two are forest specific:\n",
    "<ul>\n",
    "    <li>n_estimators - the number of trees (and bootstrapped samples) to be used</li>\n",
    "    <li>max_features - the number of features that will be randomly sampled for each tree.</li>\n",
    "</ul>\n",
    "The default in RandomForestClassifier is max_features=sqrt(total_features), which is generally a good suggestion. The default for n_estimators is 10, which is probably too low. The other design parameters are specific to the individual decision trees, which are covered in the decision tree module.\n",
    "</p>"
   ]
  },
  {
   "cell_type": "markdown",
   "metadata": {},
   "source": [
    "### Out-of-Bag Error\n",
    "<p>Usually we would want to use cross-validation for performance tuning. For Random Forests, this becomes problematic, as cross-validation with RF's can be painfully slow. That's because each cross-validation step requires building k*n_estimators trees. One advantage of a random forest is that it performs what is called an \"out-of-bag\" error calculation. Remember that each tree is built from a bootstrap sample of the data, so that for each tree, some portion of the data is not used for that tree. The RF method computes an out-of-bag prediction for each record $[x_i, y_i]$ by averaging the prediction $f^b(x_i,y_i)$ on record $i$ for the bootstrap iterations in which record $i$ was not chosen in the bootstrap. The out-of-bag prediction can then be used to compute out-of-sample error for model selection and validation. This method should be equivalent to $N$-fold cross-validation. \n",
    "\n",
    "<br><br>\n",
    "We'll start by building a tree of oob predictions enabled and then compare the performance to a true hold out set.\n",
    "\n",
    "</p>"
   ]
  },
  {
   "cell_type": "code",
   "execution_count": 16,
   "metadata": {
    "collapsed": false
   },
   "outputs": [],
   "source": [
    "rf_def = RandomForestClassifier(criterion='entropy', n_estimators=100, oob_score=True)\n",
    "rf_def = rf_def.fit(train.drop(lab, 1), train[lab])\n",
    "rf_pred_test = rf_def.predict_proba(test.drop(lab,1))\n",
    "rf_pred_train = rf_def.predict_proba(train.drop(lab,1))\n",
    "\n",
    "bd.plotAUC(test[lab], rf_pred_test[:,1], 'Test')\n",
    "bd.plotAUC(train[lab], rf_pred_train[:,1], 'Train')\n",
    "bd.plotAUC(train[lab], rf_def.oob_decision_function_[:,1], 'OOB')\n",
    "plt.show()"
   ]
  },
  {
   "cell_type": "markdown",
   "metadata": {},
   "source": [
    "<p>We can see two very important things here. \n",
    "<ul>\n",
    "    <li>The training AUC is 1.00. This means that the RF perfectly predicts the training set!</li>\n",
    "    <li>The OOB AUC is exactly equal to the test AUC up to 2 digits of precision.</li>\n",
    "</ul>\n",
    "Now we'll use OOB error to do model selection."
   ]
  },
  {
   "cell_type": "code",
   "execution_count": 17,
   "metadata": {
    "collapsed": false
   },
   "outputs": [],
   "source": [
    "n_est = [50, 100, 200, 500, 1000]\n",
    "m_feat = [1, 3, 6, 11]\n",
    "\n",
    "aucs_oob = {}\n",
    "aucs_test = {}\n",
    "\n",
    "for m in m_feat:\n",
    "    aucs_oob[m] = []\n",
    "    aucs_test[m] = []\n",
    "    for n in n_est:\n",
    "        rf_oob = RandomForestClassifier(criterion='entropy', n_estimators=n, max_features=m, oob_score=True)\n",
    "        rf_oob = rf_oob.fit(train.drop(lab, 1), train[lab])\n",
    "        aucs_oob[m].append(roc_auc_score(train[lab], rf_oob.oob_decision_function_[:,1]))\n",
    "        aucs_test[m].append(roc_auc_score(test[lab], rf_oob.predict_proba(test.drop(lab,1))[:,1]))"
   ]
  },
  {
   "cell_type": "code",
   "execution_count": 19,
   "metadata": {
    "collapsed": false
   },
   "outputs": [],
   "source": [
    "#We'll plot in this block\n",
    "\n",
    "x = np.log2(np.array(n_est))\n",
    "for m in m_feat:\n",
    "    plt.plot(x, aucs_oob[m], label='max_feat={}'.format(m))\n",
    "    \n",
    "plt.title('OOB AUC by Max Feat and N-Estimators')\n",
    "plt.xlabel('Log2(N-Estimators)')\n",
    "plt.ylabel('OOB-AUC')\n",
    "plt.legend(loc=4, ncol=2, prop={'size':10})\n",
    "plt.show()"
   ]
  },
  {
   "cell_type": "markdown",
   "metadata": {},
   "source": [
    "<p>We can see in the plot above that the forest gets better with more trees, but we see that this effect tapers off asymptotically. We also see somewhat of a Golidlocks phenomenon with respect to the optimal number of features. Having too few features is suboptimal (i.e., max_feat=1), probably due to high bias in the trees. Conversely, having too many features (max_feat=11) is also bad, and this is because the individual trees are too correlated with each other, which prevents the Bagging approach from reducing the overall variance (see the analysis below to understand the math behind this statement). The right number of features is in the middle. We see that choosing $3$ or $6$ perform relatively the same. $3$ happens to be closer to the good heuristic default, which is max_feat=sqrt(total feats). \n",
    "<br><br>\n",
    "Next, for the purpose of educating ourselves, we'll also look at the Test set AUC's on each of the design options above.\n",
    "</p>"
   ]
  },
  {
   "cell_type": "code",
   "execution_count": 23,
   "metadata": {
    "collapsed": false
   },
   "outputs": [
    {
     "data": {
      "image/png": "[encoded data removed]",
      "text/plain": [
       "<matplotlib.figure.Figure at 0x288000d0f0>"
      ]
     },
     "metadata": {},
     "output_type": "display_data"
    }
   ],
   "source": [
    "x = np.log2(np.array(n_est))\n",
    "for m in m_feat:\n",
    "    plt.plot(x, aucs_test[m], label='max_feat={}'.format(m))\n",
    "    \n",
    "plt.title('Test AUC by Max Feat and N-Estimators')\n",
    "plt.xlabel('Log2(N-Estimators)')\n",
    "plt.ylabel('Test-AUC')\n",
    "plt.legend(loc=4, ncol=2, prop={'size':10})\n",
    "plt.show()"
   ]
  },
  {
   "cell_type": "markdown",
   "metadata": {},
   "source": [
    "<p>We can see similar patterns in the true holdout evaluation as we did in the OOB evaluation. We also tend to see a few more things. For one thing, having more trees actually hurts the performance for some levels of max_feat. We also see that the best choice for max_feat was indeed $3$.\n",
    "\n",
    "\n",
    "</p>"
   ]
  },
  {
   "cell_type": "markdown",
   "metadata": {},
   "source": [
    "### Feature Importance\n",
    "<p>Much like with Decision Trees, the Random Forest Classifier has a built in mechanism for evaluating feature importance. Quoting the sklearn documentation:<br><br> \n",
    "\n",
    "<i>Features used at the top of the tree contribute to the final prediction of a larger fraction of the input samples. The <b>expected fraction of the samples</b> they contribute to can thus be used as an estimate of the <b>relative importance of the features</b>.</i>\n",
    "<br><br>\n",
    "The above computation is made for each feature in each tree and then averaged over all trees in the forest. The Random Forest Classifier returns an attribute with an importance score for each feature, and these scores sum to $1$ across all features.\n",
    "<br><br>\n",
    "We'll train a RF on the best options found above and then look at the feature importances.\n",
    "\n",
    "</p>"
   ]
  },
  {
   "cell_type": "code",
   "execution_count": 24,
   "metadata": {
    "collapsed": false
   },
   "outputs": [],
   "source": [
    "from sklearn.ensemble import RandomForestClassifier\n",
    "\n",
    "rf_best = RandomForestClassifier(criterion='entropy', n_estimators=500)\n",
    "rf_best = rf_best.fit(train.drop(lab, 1), train[lab])"
   ]
  },
  {
   "cell_type": "code",
   "execution_count": 25,
   "metadata": {
    "collapsed": false
   },
   "outputs": [
    {
     "data": {
      "text/plain": [
       "<matplotlib.legend.Legend at 0x288018ea90>"
      ]
     },
     "execution_count": 25,
     "metadata": {},
     "output_type": "execute_result"
    },
    {
     "data": {
      "image/png": "[encoded data removed]",
      "text/plain": [
       "<matplotlib.figure.Figure at 0x28de160f28>"
      ]
     },
     "metadata": {},
     "output_type": "display_data"
    }
   ],
   "source": [
    "%matplotlib inline\n",
    "\n",
    "cols = train.drop(lab, 1).columns.values\n",
    "rf_fi = rf_best.feature_importances_\n",
    "dt_fi = clf_def.feature_importances_\n",
    "\n",
    "fig, ax = plt.subplots()\n",
    "width=0.35\n",
    "\n",
    "ax.bar(np.arange(len(cols)), rf_fi, width, color='r', label='RF')\n",
    "ax.bar(np.arange(len(cols))+width, dt_fi, width, color='b', label='DT')\n",
    "\n",
    "ax.set_xticks(np.arange(len(cols)))\n",
    "ax.set_xticklabels(cols, rotation=45)\n",
    "plt.title('Feature Importance from DT and RF')\n",
    "ax.set_ylabel('Normalized Gini Importance')\n",
    "plt.legend(loc=1)\n",
    "\n"
   ]
  },
  {
   "cell_type": "markdown",
   "metadata": {},
   "source": [
    "### Why do Random Forests work?\n",
    "<p>We can show with a little algebra why Random Forests lead to generally better estimation performance.<br><br> Let's say that the variance of a single tree of size $N$ and $p$ features is: $Var(T_b(X))=\\sigma^2$. Similarly the variance of the Random Forest is the variance of the sum of such trees, i.e., $Var(RF(X))=Var(\\frac{1}{B}\\sum\\limits_{b=1}^B \\: T_b(X)).$ Because the invidual trees are trained with overlapping records and features, the individual tree estimates are correlated. Thus, the variance does not factor completely cleanly into a sum of individual tree variances. We'll solve this by using the following relation:<br><br>\n",
    "\n",
    "<center>$Var(\\frac{1}{B}\\sum\\limits_{b=1}^B \\: T_b(X))=\\frac{1}{B^2}\\sum\\limits_{i=1}^B\\sum\\limits_{j=1}^B\\:Cov(T_i(X), T_j(X))$</center>\n",
    "\n",
    "<center>$=\\frac{1}{B^2}\\sum\\limits_{i=1}^B (\\sum\\limits_{i \\neq j}\\:Cov(T_i(X), T_j(X))+Var(T_i(X))$</center><br><br>\n",
    "If $\\rho$ is the correlationb etween $T_i(X)$ and $T_j(X)$, then $Cov(T_i(X), T_j(X))=\\rho\\sigma^2$. So then:<br><br>\n",
    "\n",
    "<center>$Var(\\frac{1}{B}\\sum\\limits_{b=1}^B \\: T_b(X))=\\frac{1}{B^2}\\sum\\limits_{i=1}^B ((B-1)\\rho\\sigma^2+\\sigma^2)=\\frac{1}{B}((B-1)\\rho\\sigma^2+\\sigma^2)=\\rho\\sigma^2+\\frac{1}{B}(1-\\rho)\\sigma^2$</center><br><br>\n",
    "This last quantity shows the two factors that reduce the variance of the Random Forest. 1). The term $\\rho\\sigma^2$ shrinks to $0$ as the correlation between trees reduces to $0$, which is achieved by randomly downsampling the features. 2). The right-hand term shinks asymptotically to $0$ as $B$ increases.\n",
    "\n",
    "</p>"
   ]
  },
  {
   "cell_type": "code",
   "execution_count": null,
   "metadata": {
    "collapsed": false
   },
   "outputs": [],
   "source": []
  }
 ],
 "metadata": {
  "kernelspec": {
   "display_name": "Python 3",
   "language": "python",
   "name": "python3"
  },
  "language_info": {
   "codemirror_mode": {
    "name": "ipython",
    "version": 3
   },
   "file_extension": ".py",
   "mimetype": "text/x-python",
   "name": "python",
   "nbconvert_exporter": "python",
   "pygments_lexer": "ipython3",
   "version": "3.5.2"
  }
 },
 "nbformat": 4,
 "nbformat_minor": 0
}
